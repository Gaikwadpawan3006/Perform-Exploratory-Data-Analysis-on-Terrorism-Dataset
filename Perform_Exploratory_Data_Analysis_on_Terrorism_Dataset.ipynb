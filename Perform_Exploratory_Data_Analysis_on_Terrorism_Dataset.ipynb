{
  "nbformat": 4,
  "nbformat_minor": 0,
  "metadata": {
    "colab": {
      "name": "Perform-Exploratory-Data-Analysis-on-Terrorism Dataset.ipynb",
      "provenance": [],
      "authorship_tag": "ABX9TyPTjRhvcWP03YccI8JToKnv",
      "include_colab_link": true
    },
    "kernelspec": {
      "name": "python3",
      "display_name": "Python 3"
    },
    "language_info": {
      "name": "python"
    }
  },
  "cells": [
    {
      "cell_type": "markdown",
      "metadata": {
        "id": "view-in-github",
        "colab_type": "text"
      },
      "source": [
        "<a href=\"https://colab.research.google.com/github/Gaikwadpawan3006/Perform-Exploratory-Data-Analysis-on-Terrorism-Dataset/blob/main/Perform_Exploratory_Data_Analysis_on_Terrorism_Dataset.ipynb\" target=\"_parent\"><img src=\"https://colab.research.google.com/assets/colab-badge.svg\" alt=\"Open In Colab\"/></a>"
      ]
    },
    {
      "cell_type": "markdown",
      "metadata": {
        "id": "jQT431WoPDtW"
      },
      "source": [
        "# **Task 4: Perform-Exploratory-Data-Analysis-on-Terrorism Dataset**"
      ]
    },
    {
      "cell_type": "markdown",
      "metadata": {
        "id": "OPRLzf10Pd38"
      },
      "source": [
        "## **Spark Foundation Inernship**"
      ]
    },
    {
      "cell_type": "markdown",
      "metadata": {
        "id": "IDg7_h1EPOvl"
      },
      "source": [
        "## **Name: Gaikwad Pawan Ramesh**"
      ]
    },
    {
      "cell_type": "markdown",
      "metadata": {
        "id": "gaAtYEXiPY6c"
      },
      "source": [
        "**Importing Libraries**"
      ]
    },
    {
      "cell_type": "code",
      "metadata": {
        "id": "kZo9dLCMQwsI"
      },
      "source": [
        "import numpy as np\n",
        "import matplotlib.pyplot as plt\n",
        "import seaborn as sns\n",
        "import pandas as pd"
      ],
      "execution_count": 1,
      "outputs": []
    },
    {
      "cell_type": "code",
      "metadata": {
        "id": "AqaE84hySUbe"
      },
      "source": [
        ""
      ],
      "execution_count": null,
      "outputs": []
    },
    {
      "cell_type": "code",
      "metadata": {
        "id": "PiaFjqlASxXD"
      },
      "source": [
        ""
      ],
      "execution_count": null,
      "outputs": []
    }
  ]
}